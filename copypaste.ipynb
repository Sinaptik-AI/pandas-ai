{
 "cells": [
  {
   "cell_type": "code",
   "execution_count": 1,
   "metadata": {},
   "outputs": [],
   "source": [
    "import sys\n",
    "import subprocess\n",
    "\n",
    "def copy_to_clipboard(text: str):\n",
    "        \"\"\"\n",
    "        Copy text to clipboard\n",
    "\n",
    "        Args:\n",
    "            text (str): Text to copy to clipboard\n",
    "        \"\"\"\n",
    "        if sys.platform == \"win32\":\n",
    "            command = \"echo \" + text.strip() + \"| clip\"\n",
    "            subprocess.run(command, shell=True)\n",
    "        elif sys.platform == \"darwin\":\n",
    "            command = \"echo \" + text.strip() + \"| pbcopy\"\n",
    "            subprocess.run(command, shell=True)\n",
    "        elif sys.platform.startswith(\"linux\"):\n",
    "            command = \"echo \" + text.strip() + \"| xclip -selection clipboard\"\n",
    "            subprocess.run(command, shell=True)\n",
    "        else:\n",
    "            raise Exception(\"Can't copy to clipboard, unsupported OS.\")\n",
    "\n",
    "def paste_from_clipboard() -> str:\n",
    "    \"\"\"\n",
    "    Paste text from clipboard\n",
    "\n",
    "    Returns (str): Text from clipboard\n",
    "    \"\"\"\n",
    "    if sys.platform == \"win32\":\n",
    "        command = 'powershell.exe -command \"Get-Clipboard\"'\n",
    "        result = subprocess.run(command, capture_output=True, text=True, shell=True)\n",
    "        return result.stdout.strip()\n",
    "    elif sys.platform == \"darwin\":\n",
    "        command = \"pbpaste\"\n",
    "        result = subprocess.run(command, capture_output=True, text=True, shell=True)\n",
    "        return result.stdout.strip()\n",
    "    elif sys.platform.startswith(\"linux\"):\n",
    "        command = \"xclip -selection clipboard -o\"\n",
    "        result = subprocess.run(command, capture_output=True, text=True, shell=True)\n",
    "        return result.stdout.strip()\n",
    "    else:\n",
    "        raise Exception(\"Can't paste from clipboard, unsupported OS.\")"
   ]
  },
  {
   "cell_type": "code",
   "execution_count": 3,
   "metadata": {},
   "outputs": [],
   "source": [
    "copy_to_clipboard(\"Hello World!\")\n",
    "Hello World!\n"
   ]
  }
 ],
 "metadata": {
  "kernelspec": {
   "display_name": "pdai",
   "language": "python",
   "name": "python3"
  },
  "language_info": {
   "codemirror_mode": {
    "name": "ipython",
    "version": 3
   },
   "file_extension": ".py",
   "mimetype": "text/x-python",
   "name": "python",
   "nbconvert_exporter": "python",
   "pygments_lexer": "ipython3",
   "version": "3.11.4"
  },
  "orig_nbformat": 4
 },
 "nbformat": 4,
 "nbformat_minor": 2
}
