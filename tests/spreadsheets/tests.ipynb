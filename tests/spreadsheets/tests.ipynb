{
 "cells": [
  {
   "cell_type": "code",
   "execution_count": null,
   "metadata": {},
   "outputs": [],
   "source": [
    "import matplotlib.pyplot as plt\n",
    "from pandasai import PandasAI\n",
    "from pandasai.llm.openai import OpenAI\n",
    "from pandasai.spreadsheets.utils import google_sheets_ai\n",
    "\n",
    "LLM = OpenAI(api_token=\"TOKEN\")\n",
    "pandas_ai = PandasAI(LLM)\n",
    "\n",
    "TEST1 = \"https://docs.google.com/spreadsheets/d/1tNgmT4NzZAw7CpH52zOgolonRstXGlPT2XT9aHE-PsI/edit?usp=sharing\"\n",
    "TEST2 = \"https://docs.google.com/spreadsheets/d/1SdgUPuYbxCl-AK9bLmHiizCrYsIXEQQz5PpBPCqO-rg/edit?usp=sharing\"\n",
    "TEST3 = \"https://docs.google.com/spreadsheets/d/1q2OYWEtc25J_Es7hY911V-VZh5WpT1aeshCuEJcpFk4/edit?usp=sharing\"\n",
    "TEST4 = \"https://docs.google.com/spreadsheets/d/1FKB4ZxsPWexUjlsNLAXCbI9wUbqG-lHNo5qaU7UEcx4/edit?usp=sharing\""
   ]
  },
  {
   "attachments": {},
   "cell_type": "markdown",
   "metadata": {},
   "source": [
    "## Test 1"
   ]
  },
  {
   "cell_type": "code",
   "execution_count": null,
   "metadata": {},
   "outputs": [
    {
     "data": {
      "image/png": "[encoded data removed]",
      "text/plain": [
       "<Figure size 640x480 with 1 Axes>"
      ]
     },
     "metadata": {},
     "output_type": "display_data"
    }
   ],
   "source": [
    "prompt = \"Plot a bar plot of the count of the parrot with the color of each bar corresponding to that of each parrot\"\n",
    "\n",
    "df = google_sheets_ai(\n",
    "    url=TEST1, \n",
    "    prompt=prompt)\n",
    "\n",
    "pandas_ai(df, prompt)"
   ]
  },
  {
   "attachments": {},
   "cell_type": "markdown",
   "metadata": {},
   "source": [
    "## Test 2"
   ]
  },
  {
   "cell_type": "code",
   "execution_count": null,
   "metadata": {},
   "outputs": [
    {
     "data": {
      "text/html": [
       "<div>\n",
       "<style scoped>\n",
       "    .dataframe tbody tr th:only-of-type {\n",
       "        vertical-align: middle;\n",
       "    }\n",
       "\n",
       "    .dataframe tbody tr th {\n",
       "        vertical-align: top;\n",
       "    }\n",
       "\n",
       "    .dataframe thead th {\n",
       "        text-align: right;\n",
       "    }\n",
       "</style>\n",
       "<table border=\"1\" class=\"dataframe\">\n",
       "  <thead>\n",
       "    <tr style=\"text-align: right;\">\n",
       "      <th></th>\n",
       "      <th>work_year</th>\n",
       "      <th>salary</th>\n",
       "      <th>salary_in_usd</th>\n",
       "      <th>remote_ratio</th>\n",
       "    </tr>\n",
       "  </thead>\n",
       "  <tbody>\n",
       "    <tr>\n",
       "      <th>count</th>\n",
       "      <td>99.000000</td>\n",
       "      <td>9.900000e+01</td>\n",
       "      <td>99.000000</td>\n",
       "      <td>99.000000</td>\n",
       "    </tr>\n",
       "    <tr>\n",
       "      <th>mean</th>\n",
       "      <td>2022.979798</td>\n",
       "      <td>1.848967e+05</td>\n",
       "      <td>164180.989899</td>\n",
       "      <td>43.434343</td>\n",
       "    </tr>\n",
       "    <tr>\n",
       "      <th>std</th>\n",
       "      <td>0.141407</td>\n",
       "      <td>1.667593e+05</td>\n",
       "      <td>68999.439121</td>\n",
       "      <td>49.304585</td>\n",
       "    </tr>\n",
       "    <tr>\n",
       "      <th>min</th>\n",
       "      <td>2022.000000</td>\n",
       "      <td>2.550000e+04</td>\n",
       "      <td>20984.000000</td>\n",
       "      <td>0.000000</td>\n",
       "    </tr>\n",
       "    <tr>\n",
       "      <th>25%</th>\n",
       "      <td>2023.000000</td>\n",
       "      <td>1.218000e+05</td>\n",
       "      <td>112840.000000</td>\n",
       "      <td>0.000000</td>\n",
       "    </tr>\n",
       "    <tr>\n",
       "      <th>50%</th>\n",
       "      <td>2023.000000</td>\n",
       "      <td>1.700000e+05</td>\n",
       "      <td>166000.000000</td>\n",
       "      <td>0.000000</td>\n",
       "    </tr>\n",
       "    <tr>\n",
       "      <th>75%</th>\n",
       "      <td>2023.000000</td>\n",
       "      <td>2.177500e+05</td>\n",
       "      <td>213205.000000</td>\n",
       "      <td>100.000000</td>\n",
       "    </tr>\n",
       "    <tr>\n",
       "      <th>max</th>\n",
       "      <td>2023.000000</td>\n",
       "      <td>1.650000e+06</td>\n",
       "      <td>342810.000000</td>\n",
       "      <td>100.000000</td>\n",
       "    </tr>\n",
       "  </tbody>\n",
       "</table>\n",
       "</div>"
      ],
      "text/plain": [
       "         work_year        salary  salary_in_usd  remote_ratio\n",
       "count    99.000000  9.900000e+01      99.000000     99.000000\n",
       "mean   2022.979798  1.848967e+05  164180.989899     43.434343\n",
       "std       0.141407  1.667593e+05   68999.439121     49.304585\n",
       "min    2022.000000  2.550000e+04   20984.000000      0.000000\n",
       "25%    2023.000000  1.218000e+05  112840.000000      0.000000\n",
       "50%    2023.000000  1.700000e+05  166000.000000      0.000000\n",
       "75%    2023.000000  2.177500e+05  213205.000000    100.000000\n",
       "max    2023.000000  1.650000e+06  342810.000000    100.000000"
      ]
     },
     "execution_count": 4,
     "metadata": {},
     "output_type": "execute_result"
    }
   ],
   "source": [
    "prompt = \"Show statistics for the salaries\"\n",
    "df = google_sheets_ai(\n",
    "    url=TEST2, \n",
    "    prompt=prompt)\n",
    "\n",
    "pandas_ai(df, prompt)"
   ]
  },
  {
   "attachments": {},
   "cell_type": "markdown",
   "metadata": {},
   "source": [
    "## Ambiguous Prompt Case\n",
    "When tables can't be differentiated by their column names, or when the prompt does not uniquely specify a table by its columns, a warning should be given since the table will be chosen at random."
   ]
  },
  {
   "cell_type": "code",
   "execution_count": null,
   "metadata": {},
   "outputs": [
    {
     "name": "stderr",
     "output_type": "stream",
     "text": [
      "/Users/yassinkortam/Documents/GitHub/pandas-ai/spreadsheets/utils.py:154: UserWarning: \n",
      "            The prompt is too ambiguous. \n",
      "            - Please be more specific about the data table you are referencing by explicitly naming its unique columns.\n",
      "            - Note that google sheets ai can only handle one dataframe at a time.\n",
      "            \n",
      "  warnings.warn(\n"
     ]
    },
    {
     "data": {
      "text/html": [
       "<div>\n",
       "<style scoped>\n",
       "    .dataframe tbody tr th:only-of-type {\n",
       "        vertical-align: middle;\n",
       "    }\n",
       "\n",
       "    .dataframe tbody tr th {\n",
       "        vertical-align: top;\n",
       "    }\n",
       "\n",
       "    .dataframe thead th {\n",
       "        text-align: right;\n",
       "    }\n",
       "</style>\n",
       "<table border=\"1\" class=\"dataframe\">\n",
       "  <thead>\n",
       "    <tr style=\"text-align: right;\">\n",
       "      <th></th>\n",
       "      <th>Fruit</th>\n",
       "      <th>Color</th>\n",
       "      <th>Diameter</th>\n",
       "    </tr>\n",
       "  </thead>\n",
       "  <tbody>\n",
       "    <tr>\n",
       "      <th>count</th>\n",
       "      <td>4</td>\n",
       "      <td>4</td>\n",
       "      <td>4.00000</td>\n",
       "    </tr>\n",
       "    <tr>\n",
       "      <th>unique</th>\n",
       "      <td>4</td>\n",
       "      <td>3</td>\n",
       "      <td>NaN</td>\n",
       "    </tr>\n",
       "    <tr>\n",
       "      <th>top</th>\n",
       "      <td>Apple</td>\n",
       "      <td>Orange</td>\n",
       "      <td>NaN</td>\n",
       "    </tr>\n",
       "    <tr>\n",
       "      <th>freq</th>\n",
       "      <td>1</td>\n",
       "      <td>2</td>\n",
       "      <td>NaN</td>\n",
       "    </tr>\n",
       "    <tr>\n",
       "      <th>mean</th>\n",
       "      <td>NaN</td>\n",
       "      <td>NaN</td>\n",
       "      <td>13.00000</td>\n",
       "    </tr>\n",
       "    <tr>\n",
       "      <th>std</th>\n",
       "      <td>NaN</td>\n",
       "      <td>NaN</td>\n",
       "      <td>2.44949</td>\n",
       "    </tr>\n",
       "    <tr>\n",
       "      <th>min</th>\n",
       "      <td>NaN</td>\n",
       "      <td>NaN</td>\n",
       "      <td>10.00000</td>\n",
       "    </tr>\n",
       "    <tr>\n",
       "      <th>25%</th>\n",
       "      <td>NaN</td>\n",
       "      <td>NaN</td>\n",
       "      <td>11.50000</td>\n",
       "    </tr>\n",
       "    <tr>\n",
       "      <th>50%</th>\n",
       "      <td>NaN</td>\n",
       "      <td>NaN</td>\n",
       "      <td>13.50000</td>\n",
       "    </tr>\n",
       "    <tr>\n",
       "      <th>75%</th>\n",
       "      <td>NaN</td>\n",
       "      <td>NaN</td>\n",
       "      <td>15.00000</td>\n",
       "    </tr>\n",
       "    <tr>\n",
       "      <th>max</th>\n",
       "      <td>NaN</td>\n",
       "      <td>NaN</td>\n",
       "      <td>15.00000</td>\n",
       "    </tr>\n",
       "  </tbody>\n",
       "</table>\n",
       "</div>"
      ],
      "text/plain": [
       "       Fruit    Color  Diameter\n",
       "count       4       4   4.00000\n",
       "unique      4       3       NaN\n",
       "top     Apple  Orange       NaN\n",
       "freq        1       2       NaN\n",
       "mean      NaN     NaN  13.00000\n",
       "std       NaN     NaN   2.44949\n",
       "min       NaN     NaN  10.00000\n",
       "25%       NaN     NaN  11.50000\n",
       "50%       NaN     NaN  13.50000\n",
       "75%       NaN     NaN  15.00000\n",
       "max       NaN     NaN  15.00000"
      ]
     },
     "execution_count": 8,
     "metadata": {},
     "output_type": "execute_result"
    }
   ],
   "source": [
    "prompt = \"Show statistics for the fruits\"\n",
    "df = google_sheets_ai(\n",
    "    url=TEST3, \n",
    "    prompt=prompt)\n",
    "\n",
    "pandas_ai(df, prompt)"
   ]
  },
  {
   "attachments": {},
   "cell_type": "markdown",
   "metadata": {},
   "source": [
    "## Empty spreadheet case\n",
    "Should throw an error since a df can't be selected "
   ]
  },
  {
   "cell_type": "code",
   "execution_count": null,
   "metadata": {},
   "outputs": [
    {
     "ename": "ValueError",
     "evalue": "No dataframes found in the Google Sheet",
     "output_type": "error",
     "traceback": [
      "\u001b[0;31m---------------------------------------------------------------------------\u001b[0m",
      "\u001b[0;31mValueError\u001b[0m                                Traceback (most recent call last)",
      "Cell \u001b[0;32mIn[9], line 2\u001b[0m\n\u001b[1;32m      1\u001b[0m prompt \u001b[39m=\u001b[39m \u001b[39m\"\u001b[39m\u001b[39mShow statistics for the fruit\u001b[39m\u001b[39m\"\u001b[39m\n\u001b[0;32m----> 2\u001b[0m df \u001b[39m=\u001b[39m google_sheets_ai(\n\u001b[1;32m      3\u001b[0m     url\u001b[39m=\u001b[39;49mTEST4, \n\u001b[1;32m      4\u001b[0m     prompt\u001b[39m=\u001b[39;49mprompt)\n\u001b[1;32m      6\u001b[0m pandas_ai(df, prompt)\n",
      "File \u001b[0;32m~/Documents/GitHub/pandas-ai/spreadsheets/utils.py:179\u001b[0m, in \u001b[0;36mgoogle_sheets_ai\u001b[0;34m(url, prompt)\u001b[0m\n\u001b[1;32m    177\u001b[0m sheet \u001b[39m=\u001b[39m get_google_sheet(url)\n\u001b[1;32m    178\u001b[0m dfs \u001b[39m=\u001b[39m sheet_to_df(sheet)\n\u001b[0;32m--> 179\u001b[0m df \u001b[39m=\u001b[39m select_df(prompt, dfs)\n\u001b[1;32m    181\u001b[0m \u001b[39mreturn\u001b[39;00m df\n",
      "File \u001b[0;32m~/Documents/GitHub/pandas-ai/spreadsheets/utils.py:119\u001b[0m, in \u001b[0;36mselect_df\u001b[0;34m(prompt, dfs)\u001b[0m\n\u001b[1;32m    107\u001b[0m \u001b[39m\u001b[39m\u001b[39m\"\"\"\u001b[39;00m\n\u001b[1;32m    108\u001b[0m \u001b[39mReturns the dataframe that best matches the prompt\u001b[39;00m\n\u001b[1;32m    109\u001b[0m \n\u001b[0;32m   (...)\u001b[0m\n\u001b[1;32m    115\u001b[0m \u001b[39m    df (pd.DataFrame): The dataframe that best matches the prompt\u001b[39;00m\n\u001b[1;32m    116\u001b[0m \u001b[39m\"\"\"\u001b[39;00m\n\u001b[1;32m    118\u001b[0m \u001b[39mif\u001b[39;00m \u001b[39mlen\u001b[39m(dfs) \u001b[39m==\u001b[39m \u001b[39m0\u001b[39m:\n\u001b[0;32m--> 119\u001b[0m     \u001b[39mraise\u001b[39;00m \u001b[39mValueError\u001b[39;00m(\u001b[39m\"\u001b[39m\u001b[39mNo dataframes found in the Google Sheet\u001b[39m\u001b[39m\"\u001b[39m)\n\u001b[1;32m    121\u001b[0m \u001b[39m#Simplify the prompt to just the nouns\u001b[39;00m\n\u001b[1;32m    122\u001b[0m nlp \u001b[39m=\u001b[39m spacy\u001b[39m.\u001b[39mload(\u001b[39m\"\u001b[39m\u001b[39men_core_web_sm\u001b[39m\u001b[39m\"\u001b[39m)\n",
      "\u001b[0;31mValueError\u001b[0m: No dataframes found in the Google Sheet"
     ]
    }
   ],
   "source": [
    "prompt = \"Show statistics for the fruit\"\n",
    "df = google_sheets_ai(\n",
    "    url=TEST4, \n",
    "    prompt=prompt)\n",
    "\n",
    "pandas_ai(df, prompt)"
   ]
  }
 ],
 "metadata": {
  "kernelspec": {
   "display_name": "Python 3",
   "language": "python",
   "name": "python3"
  },
  "language_info": {
   "codemirror_mode": {
    "name": "ipython",
    "version": 3
   },
   "file_extension": ".py",
   "mimetype": "text/x-python",
   "name": "python",
   "nbconvert_exporter": "python",
   "pygments_lexer": "ipython3",
   "version": "3.11.4"
  },
  "orig_nbformat": 4
 },
 "nbformat": 4,
 "nbformat_minor": 2
}
