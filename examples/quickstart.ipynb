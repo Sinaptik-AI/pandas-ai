{
 "cells": [
  {
   "cell_type": "markdown",
   "metadata": {},
   "source": [
    "# PandasAI Quickstart Guide\n",
    "\n",
    "This notebook demonstrates how to get started with PandaAI and how to use it to analyze data through natural language."
   ]
  },
  {
   "cell_type": "markdown",
   "metadata": {},
   "source": [
    "## Set up API Key\n",
    "\n",
    "Set your PandasAI API key for authentication.  \n",
    "You can get your free API key from the data platform ([pandabi.ai](https://pandabi.ai))"
   ]
  },
  {
   "cell_type": "code",
   "execution_count": null,
   "metadata": {},
   "outputs": [],
   "source": [
    "import pandasai as pai\n",
    "\n",
    "pai.api_key.set(\"your-pai-api-key\")"
   ]
  },
  {
   "cell_type": "markdown",
   "metadata": {},
   "source": [
    "## Read CSV\n",
    "\n",
    "For this example, we will use a small dataset of heart disease patients from [Kaggle](https://www.kaggle.com/datasets/arezaei81/heartcsv)."
   ]
  },
  {
   "cell_type": "code",
   "execution_count": null,
   "metadata": {},
   "outputs": [],
   "source": [
    "df = pai.read_csv(\"./data/heart.csv\")"
   ]
  },
  {
   "cell_type": "markdown",
   "metadata": {},
   "source": [
    "## Save DataFrame\n",
    "\n",
    "To use PandaAI in combination with our Data Platform, you need to save your dataframes.  \n",
    "The path must be in format 'organization/dataset'. \n",
    "You can create organizations directly within the data platform ([pandabi.ai](https://pandabi.ai))"
   ]
  },
  {
   "cell_type": "code",
   "execution_count": null,
   "metadata": {},
   "outputs": [],
   "source": [
    "df.save(path=\"your-organization/heart\",\n",
    "    name=\"Heart\",\n",
    "    description=\"Heart Disease Dataset\")"
   ]
  },
  {
   "cell_type": "markdown",
   "metadata": {},
   "source": [
    "## Chat with Your Data\n",
    "\n",
    "Now you can ask questions about your data using natural language"
   ]
  },
  {
   "cell_type": "code",
   "execution_count": null,
   "metadata": {},
   "outputs": [],
   "source": [
    "response = df.chat(\"What is the correlation between age and cholesterol?\")\n",
    "print(response)"
   ]
  },
  {
   "cell_type": "markdown",
   "metadata": {},
   "source": [
    "## Turn the dataframe into a chatbot\n",
    "\n",
    "Push the dataframe to the data platform for collaboration.\n",
    "This will turn the dataframe into a chatbot and allow non technical users to interact with your data using natural language"
   ]
  },
  {
   "cell_type": "code",
   "execution_count": null,
   "metadata": {},
   "outputs": [],
   "source": [
    "df.push()"
   ]
  }
 ],
 "metadata": {
  "kernelspec": {
   "display_name": "Python 3",
   "language": "python",
   "name": "python3"
  },
  "language_info": {
   "codemirror_mode": {
    "name": "ipython",
    "version": 3
   },
   "file_extension": ".py",
   "mimetype": "text/x-python",
   "name": "python",
   "nbconvert_exporter": "python",
   "pygments_lexer": "ipython3",
   "version": "3.8.0"
  }
 },
 "nbformat": 4,
 "nbformat_minor": 4
}
